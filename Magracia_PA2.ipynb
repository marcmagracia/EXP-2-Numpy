{
 "cells": [
  {
   "cell_type": "markdown",
   "id": "c28f1a1a-181e-4e5a-9b4e-5ae83de1b290",
   "metadata": {},
   "source": [
    "##### Normalization Problem: Normalization is one of the most basic preprocessing techniques in data analytics. This involves centering and scaling process. Centering means subtracting the data from the mean and scaling means dividing with its standard deviation. Mathematically, normalization can be expressed as: Z = (𝑋−𝑥) / 𝜎 \n",
    " \n",
    "##### In Python, element-wise mean and element-wise standard deviation can be obtained by using .mean() and .std() calls. In this problem, create a random 5 x 5 ndarray and store it to variable X. Normalize X."
   ]
  },
  {
   "cell_type": "code",
   "execution_count": 120,
   "id": "716cd211-5296-4b6b-8cc6-6a15eb48d159",
   "metadata": {},
   "outputs": [
    {
     "name": "stdout",
     "output_type": "stream",
     "text": [
      "Normalized Version:\n"
     ]
    },
    {
     "data": {
      "text/plain": [
       "array([[ 0.451331  , -1.44604493,  0.99474092,  0.27676843, -1.03587723],\n",
       "       [-1.23743292,  1.00895988, -0.41868275,  0.47086812, -1.02210126],\n",
       "       [ 1.53030798, -0.90026458,  1.48398908, -1.24819739,  0.26477224],\n",
       "       [ 1.47726342, -1.82388897,  1.27191435,  0.21554087, -0.17299325],\n",
       "       [ 0.22344982,  0.10985608,  1.04425114, -0.55425104, -0.96427904]])"
      ]
     },
     "execution_count": 120,
     "metadata": {},
     "output_type": "execute_result"
    }
   ],
   "source": [
    "# Assign numpy to be np\n",
    "import numpy as np\n",
    "\n",
    "# Random array\n",
    "X = np.random.random((5,5))\n",
    "\n",
    "# Compute for mean and standard deviation of x using .mean() and .std() calls\n",
    "mean = X.mean()\n",
    "std = X.std()\n",
    "\n",
    "# Apply to Z-score formula\n",
    "Z = ((X - mean) / std)\n",
    "\n",
    "# Print the values\n",
    "print('Normalized Version:')\n",
    "Z"
   ]
  },
  {
   "cell_type": "markdown",
   "id": "43d750aa-f015-401e-9a3b-c7124c943649",
   "metadata": {},
   "source": [
    "------"
   ]
  },
  {
   "cell_type": "markdown",
   "id": "e0052ed7-4e4b-462a-af31-5117ae3bbe4e",
   "metadata": {},
   "source": [
    "#### Divisible by 3 Problem: Create a 10 x 10 array that lists the squares of the first 100 positive integers. From this ndarray, determine all the elements that are divisible by 3."
   ]
  },
  {
   "cell_type": "code",
   "execution_count": 117,
   "id": "0bfdebbd-bd26-45b8-906c-f62e71067909",
   "metadata": {},
   "outputs": [
    {
     "name": "stdout",
     "output_type": "stream",
     "text": [
      "Squares of the first 100 positive integers that are divisible by 3:\n"
     ]
    },
    {
     "data": {
      "text/plain": [
       "array([   9,   36,   81,  144,  225,  324,  441,  576,  729,  900, 1089,\n",
       "       1296, 1521, 1764, 2025, 2304, 2601, 2916, 3249, 3600, 3969, 4356,\n",
       "       4761, 5184, 5625, 6084, 6561, 7056, 7569, 8100, 8649, 9216, 9801])"
      ]
     },
     "execution_count": 117,
     "metadata": {},
     "output_type": "execute_result"
    }
   ],
   "source": [
    "# Array for the first 100 positive integers\n",
    "int = np.arange(1, 101)\n",
    "\n",
    "# Square the integers\n",
    "intsq = int*int\n",
    "\n",
    "# Reshape the intsq as a 10 by 10 array\n",
    "intsq10 = intsq.reshape(10,10)\n",
    "\n",
    "# Get the values divisible by 3\n",
    "arr = intsq10[intsq10%3 == 0]\n",
    "\n",
    "# Print the values\n",
    "print('Squares of the first 100 positive integers that are divisible by 3:')\n",
    "arr"
   ]
  },
  {
   "cell_type": "code",
   "execution_count": 131,
   "id": "0d5fad2e-491d-4b52-8699-f71995046a0b",
   "metadata": {},
   "outputs": [
    {
     "ename": "ValueError",
     "evalue": "Cannot load file containing pickled data when allow_pickle=False",
     "output_type": "error",
     "traceback": [
      "\u001b[1;31m---------------------------------------------------------------------------\u001b[0m",
      "\u001b[1;31mValueError\u001b[0m                                Traceback (most recent call last)",
      "Cell \u001b[1;32mIn[131], line 1\u001b[0m\n\u001b[1;32m----> 1\u001b[0m data \u001b[38;5;241m=\u001b[39m np\u001b[38;5;241m.\u001b[39mload(\u001b[38;5;124m'\u001b[39m\u001b[38;5;124mTest2_PA2-2.npy\u001b[39m\u001b[38;5;124m'\u001b[39m)\n\u001b[0;32m      2\u001b[0m data\n",
      "File \u001b[1;32m~\\anaconda3\\Lib\\site-packages\\numpy\\lib\\npyio.py:462\u001b[0m, in \u001b[0;36mload\u001b[1;34m(file, mmap_mode, allow_pickle, fix_imports, encoding, max_header_size)\u001b[0m\n\u001b[0;32m    459\u001b[0m \u001b[38;5;28;01melse\u001b[39;00m:\n\u001b[0;32m    460\u001b[0m     \u001b[38;5;66;03m# Try a pickle\u001b[39;00m\n\u001b[0;32m    461\u001b[0m     \u001b[38;5;28;01mif\u001b[39;00m \u001b[38;5;129;01mnot\u001b[39;00m allow_pickle:\n\u001b[1;32m--> 462\u001b[0m         \u001b[38;5;28;01mraise\u001b[39;00m \u001b[38;5;167;01mValueError\u001b[39;00m(\u001b[38;5;124m\"\u001b[39m\u001b[38;5;124mCannot load file containing pickled data \u001b[39m\u001b[38;5;124m\"\u001b[39m\n\u001b[0;32m    463\u001b[0m                          \u001b[38;5;124m\"\u001b[39m\u001b[38;5;124mwhen allow_pickle=False\u001b[39m\u001b[38;5;124m\"\u001b[39m)\n\u001b[0;32m    464\u001b[0m     \u001b[38;5;28;01mtry\u001b[39;00m:\n\u001b[0;32m    465\u001b[0m         \u001b[38;5;28;01mreturn\u001b[39;00m pickle\u001b[38;5;241m.\u001b[39mload(fid, \u001b[38;5;241m*\u001b[39m\u001b[38;5;241m*\u001b[39mpickle_kwargs)\n",
      "\u001b[1;31mValueError\u001b[0m: Cannot load file containing pickled data when allow_pickle=False"
     ]
    }
   ],
   "source": [
    "data = np.load('Test2_PA2-2.npy')\n",
    "data"
   ]
  },
  {
   "cell_type": "code",
   "execution_count": null,
   "id": "4892168c-4311-46df-a7a2-911c8ee1b458",
   "metadata": {},
   "outputs": [],
   "source": []
  }
 ],
 "metadata": {
  "kernelspec": {
   "display_name": "Python 3 (ipykernel)",
   "language": "python",
   "name": "python3"
  },
  "language_info": {
   "codemirror_mode": {
    "name": "ipython",
    "version": 3
   },
   "file_extension": ".py",
   "mimetype": "text/x-python",
   "name": "python",
   "nbconvert_exporter": "python",
   "pygments_lexer": "ipython3",
   "version": "3.12.4"
  }
 },
 "nbformat": 4,
 "nbformat_minor": 5
}
