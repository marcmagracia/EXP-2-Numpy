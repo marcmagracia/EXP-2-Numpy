{
 "cells": [
  {
   "cell_type": "markdown",
   "id": "c28f1a1a-181e-4e5a-9b4e-5ae83de1b290",
   "metadata": {},
   "source": [
    "##### Normalization Problem: Normalization is one of the most basic preprocessing techniques in data analytics. This involves centering and scaling process. Centering means subtracting the data from the mean and scaling means dividing with its standard deviation. Mathematically, normalization can be expressed as: Z = (𝑋−𝑥) / 𝜎 \n",
    " \n",
    "##### In Python, element-wise mean and element-wise standard deviation can be obtained by using .mean() and .std() calls. In this problem, create a random 5 x 5 ndarray and store it to variable X. Normalize X."
   ]
  },
  {
   "cell_type": "code",
   "execution_count": 222,
   "id": "716cd211-5296-4b6b-8cc6-6a15eb48d159",
   "metadata": {},
   "outputs": [
    {
     "data": {
      "text/plain": [
       "array([[ 0.48662873, -0.97079257,  1.27506569, -1.21374025,  0.5888165 ],\n",
       "       [-0.24664205,  1.72193881, -0.07678225,  0.70169445,  0.88773528],\n",
       "       [ 0.89988253,  1.16351889, -1.14690101, -0.80843819,  0.84349965],\n",
       "       [-0.14235119,  0.46467255, -1.76184989,  1.30926038,  0.48187137],\n",
       "       [-0.73013519, -1.50692402, -0.09858809, -1.71961208, -0.40182804]])"
      ]
     },
     "execution_count": 222,
     "metadata": {},
     "output_type": "execute_result"
    }
   ],
   "source": [
    "# Assign numpy to be np\n",
    "import numpy as np\n",
    "\n",
    "# Random array\n",
    "X = np.random.random((5,5))\n",
    "\n",
    "# Compute for mean and standard deviation of x using .mean() and .std() calls\n",
    "mean = X.mean()\n",
    "std = X.std()\n",
    "\n",
    "# Apply to Z-score formula\n",
    "X_normalized = ((X - mean) / std)\n",
    "X_normalized"
   ]
  },
  {
   "cell_type": "code",
   "execution_count": 224,
   "id": "06f9f1c2-13cc-40f0-bbb8-5bdae250b4ea",
   "metadata": {},
   "outputs": [],
   "source": [
    "np.save('X_normalized.npy',X_normalized)"
   ]
  },
  {
   "cell_type": "markdown",
   "id": "43d750aa-f015-401e-9a3b-c7124c943649",
   "metadata": {},
   "source": [
    "------"
   ]
  },
  {
   "cell_type": "markdown",
   "id": "e0052ed7-4e4b-462a-af31-5117ae3bbe4e",
   "metadata": {},
   "source": [
    "#### Divisible by 3 Problem: Create a 10 x 10 array that lists the squares of the first 100 positive integers. From this ndarray, determine all the elements that are divisible by 3."
   ]
  },
  {
   "cell_type": "code",
   "execution_count": 212,
   "id": "0bfdebbd-bd26-45b8-906c-f62e71067909",
   "metadata": {},
   "outputs": [
    {
     "data": {
      "text/plain": [
       "array([   9,   36,   81,  144,  225,  324,  441,  576,  729,  900, 1089,\n",
       "       1296, 1521, 1764, 2025, 2304, 2601, 2916, 3249, 3600, 3969, 4356,\n",
       "       4761, 5184, 5625, 6084, 6561, 7056, 7569, 8100, 8649, 9216, 9801])"
      ]
     },
     "execution_count": 212,
     "metadata": {},
     "output_type": "execute_result"
    }
   ],
   "source": [
    "import numpy as np\n",
    "# Array for the first 100 positive integers\n",
    "int = np.arange(1, 101)\n",
    "\n",
    "# Square the integers\n",
    "intsq = int*int\n",
    "\n",
    "# Reshape the intsq as a 10 by 10 array\n",
    "intsq10 = intsq.reshape(10,10)\n",
    "\n",
    "# Get the values divisible by 3\n",
    "div_by_3 = intsq10[intsq10%3 == 0]\n",
    "div_by_3"
   ]
  },
  {
   "cell_type": "code",
   "execution_count": 228,
   "id": "5d1240be-0cf0-49ba-9da1-c9c4b73fc875",
   "metadata": {},
   "outputs": [],
   "source": [
    "np.save('div_by_3.npy', div_by_3)"
   ]
  },
  {
   "cell_type": "code",
   "execution_count": null,
   "id": "7e4884bc-50fd-40f0-ac37-077ae7da93f8",
   "metadata": {},
   "outputs": [],
   "source": []
  }
 ],
 "metadata": {
  "kernelspec": {
   "display_name": "Python 3 (ipykernel)",
   "language": "python",
   "name": "python3"
  },
  "language_info": {
   "codemirror_mode": {
    "name": "ipython",
    "version": 3
   },
   "file_extension": ".py",
   "mimetype": "text/x-python",
   "name": "python",
   "nbconvert_exporter": "python",
   "pygments_lexer": "ipython3",
   "version": "3.12.4"
  }
 },
 "nbformat": 4,
 "nbformat_minor": 5
}
